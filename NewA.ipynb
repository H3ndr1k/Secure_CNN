{
  "nbformat": 4,
  "nbformat_minor": 0,
  "metadata": {
    "colab": {
      "name": "NewA.ipynb",
      "provenance": [],
      "collapsed_sections": []
    },
    "kernelspec": {
      "name": "python3",
      "display_name": "Python 3"
    },
    "language_info": {
      "name": "python"
    }
  },
  "cells": [
    {
      "cell_type": "code",
      "metadata": {
        "id": "c4D-d0kqFiO-"
      },
      "source": [
        "import matplotlib.pyplot as plt\n",
        "import numpy as np\n",
        "from tensorflow.keras.models import Sequential, Model, load_model\n",
        "from tensorflow.keras.layers import Input, Activation, Flatten, Dense,Reshape\n",
        "from tensorflow.keras.layers import Conv2D, AveragePooling2D, BatchNormalization, GlobalAveragePooling1D, GlobalAvgPool2D\n",
        "from tensorflow.keras.utils import to_categorical\n",
        "from tensorflow.keras.optimizers import SGD, Adam\n",
        "from tensorflow.keras import activations\n",
        "import time\n",
        "import math"
      ],
      "execution_count": 22,
      "outputs": []
    },
    {
      "cell_type": "code",
      "metadata": {
        "id": "NqsJUbpEFnMD",
        "colab": {
          "base_uri": "https://localhost:8080/"
        },
        "outputId": "f88534c7-6f67-4764-8ca9-4d6cf7feb5b6"
      },
      "source": [
        "from tensorflow.keras.datasets import cifar10\n",
        "(img_train, label_train), (img_test, label_test) = cifar10.load_data()"
      ],
      "execution_count": 2,
      "outputs": [
        {
          "output_type": "stream",
          "text": [
            "Downloading data from https://www.cs.toronto.edu/~kriz/cifar-10-python.tar.gz\n",
            "170500096/170498071 [==============================] - 6s 0us/step\n"
          ],
          "name": "stdout"
        }
      ]
    },
    {
      "cell_type": "code",
      "metadata": {
        "id": "S-8_H1eVFrFh"
      },
      "source": [
        "x_train = img_train.astype('float32') / 255\n",
        "x_test = img_test.astype('float32') / 255"
      ],
      "execution_count": 3,
      "outputs": []
    },
    {
      "cell_type": "code",
      "metadata": {
        "id": "0cGA6GfIFtXc"
      },
      "source": [
        "y_train = to_categorical(label_train)\n",
        "y_test = to_categorical(label_test)"
      ],
      "execution_count": 4,
      "outputs": []
    },
    {
      "cell_type": "code",
      "metadata": {
        "colab": {
          "base_uri": "https://localhost:8080/"
        },
        "id": "1wY3izWcFvV7",
        "outputId": "06b47e4f-bc4b-49fd-e9a0-6810df446745"
      },
      "source": [
        "model = load_model('drive/My Drive/Do_an-NCKH/model_Conv2D.h5')"
      ],
      "execution_count": null,
      "outputs": [
        {
          "output_type": "stream",
          "text": [
            "WARNING:tensorflow:No training configuration found in the save file, so the model was *not* compiled. Compile it manually.\n"
          ],
          "name": "stdout"
        }
      ]
    },
    {
      "cell_type": "code",
      "metadata": {
        "id": "zlCeLxEH5PUp"
      },
      "source": [
        "def polyfit(px):\n",
        "  return 0.1524*(px**2) + 0.5*px + 0.409"
      ],
      "execution_count": 5,
      "outputs": []
    },
    {
      "cell_type": "code",
      "metadata": {
        "id": "926cWiL20K87"
      },
      "source": [
        "model_poly = load_model('/content/drive/My Drive/Do_an-NCKH/model_poly.h5', custom_objects={'polyfit': polyfit})"
      ],
      "execution_count": null,
      "outputs": []
    },
    {
      "cell_type": "markdown",
      "metadata": {
        "id": "zjofzQP3nRGn"
      },
      "source": [
        "#Client"
      ]
    },
    {
      "cell_type": "code",
      "metadata": {
        "colab": {
          "base_uri": "https://localhost:8080/"
        },
        "id": "jkyiVALNnQVl",
        "outputId": "49063213-f803-4128-e577-b8923244bd2e"
      },
      "source": [
        "x = x_test[0:2]\n",
        "x.shape"
      ],
      "execution_count": 33,
      "outputs": [
        {
          "output_type": "execute_result",
          "data": {
            "text/plain": [
              "(2, 32, 32, 3)"
            ]
          },
          "metadata": {
            "tags": []
          },
          "execution_count": 33
        }
      ]
    },
    {
      "cell_type": "code",
      "metadata": {
        "id": "mnUf6F9dpj1k"
      },
      "source": [
        "stride, kernel, padding = 1, 3, 0"
      ],
      "execution_count": 34,
      "outputs": []
    },
    {
      "cell_type": "code",
      "metadata": {
        "id": "GXFEV8MjoS3G"
      },
      "source": [
        "leghtX = x.shape[0]\n",
        "heightX = x.shape[1]\n",
        "weightX = x.shape[2]\n",
        "deptX = x.shape[3]"
      ],
      "execution_count": 35,
      "outputs": []
    },
    {
      "cell_type": "code",
      "metadata": {
        "id": "XEbCdSzFpVC0"
      },
      "source": [
        "H = math.floor((heightX - kernel + 2*padding) / stride) + 1\n",
        "W = math.floor((weightX - kernel + 2*padding) / stride) + 1\n",
        "L = kernel*kernel*deptX"
      ],
      "execution_count": 36,
      "outputs": []
    },
    {
      "cell_type": "code",
      "metadata": {
        "id": "GpPIMQizpYcw"
      },
      "source": [
        "X = np.zeros((leghtX, H, W, L + 1, 2, 2))\n",
        "k = np.array([[np.random.rand(),np.random.rand()],\n",
        "              [np.random.rand(),np.random.rand()]])\n",
        "kd = np.linalg.inv(k)"
      ],
      "execution_count": 37,
      "outputs": []
    },
    {
      "cell_type": "code",
      "metadata": {
        "id": "CvyHL-ygpYij"
      },
      "source": [
        "for xi in range(leghtX):\n",
        "  for hi in range(0, heightX, stride):\n",
        "    for wi in range(0, weightX, stride):\n",
        "      x_ = x[xi,hi:hi+kernel,wi:wi+kernel,:].reshape(-1)\n",
        "      for i_ in np.arange(L):\n",
        "        X_ = np.array([[x_[i_], np.random.rand()],\n",
        "                       [np.random.rand(), np.random.rand()]])\n",
        "        X[xi, hi, wi, i_] = k.dot(X_)\n",
        "        # X[xi, hi, wi, i_] = 0.5 * X_\n",
        "        if i_ == L - 1:\n",
        "          X__ = np.array([[1, 1],\n",
        "                          [1, 1]])\n",
        "          X[xi, hi, wi, L] = k.dot(X__)\n",
        "      if wi + kernel == weightX:\n",
        "        break\n",
        "    if hi + kernel == heightX:\n",
        "      break"
      ],
      "execution_count": 38,
      "outputs": []
    },
    {
      "cell_type": "markdown",
      "metadata": {
        "id": "RtlYwF9xpuVO"
      },
      "source": [
        "#Server"
      ]
    },
    {
      "cell_type": "code",
      "metadata": {
        "id": "_qhIgDgWs5J6"
      },
      "source": [
        "wx = np.zeros((X.shape[0],30,30,96,2,2))"
      ],
      "execution_count": 39,
      "outputs": []
    },
    {
      "cell_type": "code",
      "metadata": {
        "id": "ZEaRCG6Yy7LD"
      },
      "source": [
        "model_poly = model_relu #Tên là relu nhưng model e vẫn để hàm là poly ạ"
      ],
      "execution_count": 40,
      "outputs": []
    },
    {
      "cell_type": "code",
      "metadata": {
        "id": "9bVUuvS5MMVm"
      },
      "source": [
        "w0, b0 = model_relu.layers[0].get_weights()\n",
        "model_ = Sequential()\n",
        "for layer in model_poly.layers[1:]:\n",
        "  model_.add(layer)\n",
        "model_.build(input_shape = model_poly.layers[0].output_shape)"
      ],
      "execution_count": 41,
      "outputs": []
    },
    {
      "cell_type": "markdown",
      "metadata": {
        "id": "ocADWFir3Yo3"
      },
      "source": [
        "#Xem1"
      ]
    },
    {
      "cell_type": "code",
      "metadata": {
        "id": "lvahmxKoMMZ0"
      },
      "source": [
        "listw = []\n",
        "for d in np.arange(w0.shape[-1]):\n",
        "  w_ = w0[:,:,:,d].reshape(-1)\n",
        "  listw.append(np.append(w_,b0[d]))\n",
        "w = np.array(listw)"
      ],
      "execution_count": 42,
      "outputs": []
    },
    {
      "cell_type": "code",
      "metadata": {
        "colab": {
          "base_uri": "https://localhost:8080/"
        },
        "id": "VGGW7Waf8dFw",
        "outputId": "66565cd0-64d6-4db9-d843-de41ceb6d719"
      },
      "source": [
        "w.shape"
      ],
      "execution_count": null,
      "outputs": [
        {
          "output_type": "execute_result",
          "data": {
            "text/plain": [
              "(96, 28)"
            ]
          },
          "metadata": {
            "tags": []
          },
          "execution_count": 23
        }
      ]
    },
    {
      "cell_type": "code",
      "metadata": {
        "id": "gz6jdl9ftdOo"
      },
      "source": [
        "for xi in np.arange(X.shape[0]):\n",
        "  for hi in np.arange(X.shape[1]):\n",
        "    for wi in np.arange(X.shape[2]):\n",
        "      for w_ in np.arange(w.shape[0]):\n",
        "        sumR = 0\n",
        "        for ri in np.arange(X.shape[3]):\n",
        "          r = w[w_,ri]*X[xi, hi, wi, ri]\n",
        "          sumR += r\n",
        "        wx[xi, hi, wi, w_] = sumR"
      ],
      "execution_count": 43,
      "outputs": []
    },
    {
      "cell_type": "code",
      "metadata": {
        "id": "X-b4lEWn8n7_",
        "colab": {
          "base_uri": "https://localhost:8080/"
        },
        "outputId": "c723310c-913a-42d2-f5fe-9139579d3e7b"
      },
      "source": [
        "x00 = model_.predict(wx[:,:,:,:,0,0] )\n",
        "x01 = model_.predict(wx[:,:,:,:,0,1] )\n",
        "x10 = model_.predict(wx[:,:,:,:,1,0] )\n",
        "x11 = model_.predict(wx[:,:,:,:,1,1] )\n",
        "xr = np.zeros((2,10,2,2))\n",
        "for i in range(2):\n",
        "  for j in range(10):\n",
        "    xr_ = np.array([[x00[i,j], x01[i,j]],\n",
        "                   [x10[i,j], x11[i,j]]])\n",
        "    xr__ = kd.dot(xr_)\n",
        "    # xr__ = xr_ \n",
        "    xr[i,j] = xr__\n",
        "lst = []\n",
        "for ii in range(2):\n",
        "  lst.append(xr[ii,:,0,0])\n",
        "print(lst)"
      ],
      "execution_count": 44,
      "outputs": [
        {
          "output_type": "stream",
          "text": [
            "[array([-0.0314985 , -0.03070592, -0.03311249, -0.03259278, -0.03457322,\n",
            "       -0.03081967, -0.03419587, -0.0326086 , -0.03153162, -0.03289231]), array([-0.03096774, -0.03045508, -0.03337809, -0.03265729, -0.03508717,\n",
            "       -0.03072467, -0.03478696, -0.03278015, -0.03101845, -0.03267529])]\n"
          ],
          "name": "stdout"
        }
      ]
    },
    {
      "cell_type": "code",
      "metadata": {
        "colab": {
          "base_uri": "https://localhost:8080/"
        },
        "id": "CMIxgAuTkvex",
        "outputId": "25d6d337-4301-44d0-a1df-9862a0c59a83"
      },
      "source": [
        "model_relu.predict(x)"
      ],
      "execution_count": 45,
      "outputs": [
        {
          "output_type": "execute_result",
          "data": {
            "text/plain": [
              "array([[0.10056635, 0.09869021, 0.10036007, 0.10147744, 0.10327712,\n",
              "        0.09644118, 0.100028  , 0.09881978, 0.09983113, 0.10050869],\n",
              "       [0.10110447, 0.09895356, 0.10007829, 0.10144784, 0.10275545,\n",
              "        0.09654878, 0.09941307, 0.09861941, 0.10035541, 0.1007238 ]],\n",
              "      dtype=float32)"
            ]
          },
          "metadata": {
            "tags": []
          },
          "execution_count": 45
        }
      ]
    },
    {
      "cell_type": "code",
      "metadata": {
        "id": "JQbh3qcoBCBz"
      },
      "source": [
        "y_uncrypt = model_poly.predict(x)\n",
        "lst_uncrypt = []\n",
        "for jj in range(y_uncrypt.shape[0]):\n",
        "  lst_uncrypt.append(y_uncrypt[jj].argmax()) \n",
        "print(lst_uncrypt)"
      ],
      "execution_count": null,
      "outputs": []
    },
    {
      "cell_type": "markdown",
      "metadata": {
        "id": "lF994M8f0J6H"
      },
      "source": [
        "Thuật toán: Đối với CNN: Client phải có Stride, padding, kernel của model, tính toán output. Rồi gửi về Server ở ví dụ này X có shape (5,30,30,27,2,2). Phía Server tính toán sắp xếp lại shape của weight ở đây là (32,27), rồi sau đó tính toán như code trên để output giống như input lúc nhận. Sau đó cho vào model dự đoán từng giá trị của ma trận (2,2). Gửi về client. Client giải mã bằng K^(-1)"
      ]
    },
    {
      "cell_type": "code",
      "metadata": {
        "colab": {
          "base_uri": "https://localhost:8080/"
        },
        "id": "Z6mO2lChHi_R",
        "outputId": "1b511eb3-2c1a-49e1-e32e-230840a94a3e"
      },
      "source": [
        "p = 0.09\n",
        "0.12*(p**2) + 0.5*p + 0.409"
      ],
      "execution_count": null,
      "outputs": [
        {
          "output_type": "execute_result",
          "data": {
            "text/plain": [
              "0.454972"
            ]
          },
          "metadata": {
            "tags": []
          },
          "execution_count": 31
        }
      ]
    },
    {
      "cell_type": "code",
      "metadata": {
        "id": "msf6dAwkMMdj"
      },
      "source": [
        "img_size = 32"
      ],
      "execution_count": 6,
      "outputs": []
    },
    {
      "cell_type": "code",
      "metadata": {
        "id": "QaR21SE84m5l"
      },
      "source": [
        "model_poly = Sequential()\n",
        "img_input = Input(shape=(img_size,img_size,3))\n",
        " \n",
        "model_poly.add(Conv2D(96, (3,3), padding='valid', input_shape = img_input.shape[1:]))\n",
        "# model_poly.add(Activation(polyfit))\n",
        "# model_poly.add(AveragePooling2D(pool_size=(2,2), padding='valid'))\n",
        "model_poly.add(BatchNormalization())\n",
        "model_poly.add(Conv2D(96, (3,3),padding='valid'))\n",
        "model_poly.add(BatchNormalization())\n",
        "model_poly.add(Conv2D(96, (3,3),padding='valid'))\n",
        "model_poly.add(Activation(polyfit))\n",
        "model_poly.add(BatchNormalization())\n",
        " \n",
        "model_poly.add(Conv2D(192, (3,3), padding='valid', input_shape = img_input.shape[1:]))\n",
        "model_poly.add(BatchNormalization())\n",
        "model_poly.add(Conv2D(192, (3,3), padding='valid', input_shape = img_input.shape[1:]))\n",
        "model_poly.add(BatchNormalization())\n",
        "model_poly.add(Activation(polyfit))\n",
        "model_poly.add(Conv2D(192, (3,3), padding='valid', input_shape = img_input.shape[1:]))\n",
        "model_poly.add(BatchNormalization())\n",
        "model_poly.add(Conv2D(192, (3,3), padding='valid', input_shape = img_input.shape[1:]))\n",
        "model_poly.add(BatchNormalization())\n",
        "model_poly.add(Conv2D(192, (3,3), padding='valid', input_shape = img_input.shape[1:]))\n",
        "model_poly.add(BatchNormalization())\n",
        "model_poly.add(Activation(polyfit))\n",
        " \n",
        "model_poly.add(Flatten())\n",
        "model_poly.add(Dense(10))\n",
        "# model_poly.add(GlobalAveragePooling2D())\n",
        "model_poly.add(Activation(activations.softmax))"
      ],
      "execution_count": null,
      "outputs": []
    },
    {
      "cell_type": "code",
      "metadata": {
        "id": "-YG_PqkDcZV2"
      },
      "source": [
        ""
      ],
      "execution_count": null,
      "outputs": []
    },
    {
      "cell_type": "code",
      "metadata": {
        "id": "09pMxCNu7Lvv"
      },
      "source": [
        "model_relu = Sequential()\n",
        "img_input = Input(shape=(img_size,img_size,3))\n",
        " \n",
        "model_relu.add(Conv2D(96, (3,3), padding='valid', input_shape = img_input.shape[1:]))\n",
        "model_relu.add(Activation(polyfit))\n",
        "model_relu.add(Conv2D(96, (3,3)))\n",
        "model_relu.add(Activation(polyfit))\n",
        "model_relu.add(Conv2D(96, (3,3), strides=2))\n",
        "model_relu.add(Activation(polyfit))\n",
        "\n",
        "model_relu.add(Conv2D(192, (3,3)))\n",
        "model_relu.add(Activation(polyfit))\n",
        "model_relu.add(Conv2D(192, (3,3)))\n",
        "model_relu.add(Activation(polyfit))\n",
        "model_relu.add(Conv2D(192, (3,3), strides=2))\n",
        "model_relu.add(Activation(polyfit))\n",
        "\n",
        "model_relu.add(Conv2D(192,(3,3)))\n",
        "model_relu.add(Activation(polyfit))\n",
        "model_relu.add(Conv2D(192,(1,1)))\n",
        "\n",
        "model_relu.add(Activation(polyfit))\n",
        "model_relu.add(Conv2D(10, (1,1)))\n",
        "model_relu.add(GlobalAveragePooling2D())\n",
        "\n",
        "model_relu.add(Activation(activations.softmax))"
      ],
      "execution_count": 30,
      "outputs": []
    },
    {
      "cell_type": "code",
      "metadata": {
        "id": "OBgFrYNpMMns"
      },
      "source": [
        "sgdx = SGD(lr=0.005, decay =1e-6, momentum=0.9, nesterov=True)\n",
        "ntrain = 60\n",
        "otp = Adam(learning_rate=1e-6)"
      ],
      "execution_count": 31,
      "outputs": []
    },
    {
      "cell_type": "code",
      "metadata": {
        "id": "FzD7_Qr7MMrU"
      },
      "source": [
        "s = time.time()\n",
        "model_poly.compile(optimizer=otp,\n",
        "              loss='categorical_crossentropy',\n",
        "              metrics=['accuracy'])\n",
        "H_new = model_poly.fit(x_train, y_train, epochs=15)\n",
        "print('time: ',time.time() - s)"
      ],
      "execution_count": null,
      "outputs": []
    },
    {
      "cell_type": "code",
      "metadata": {
        "id": "JvzPnHCJJN0I"
      },
      "source": [
        ""
      ],
      "execution_count": null,
      "outputs": []
    },
    {
      "cell_type": "code",
      "metadata": {
        "id": "1i5LFfp7MMyI"
      },
      "source": [
        "s = time.time()\n",
        "model_relu.compile(optimizer=otp,\n",
        "              loss='categorical_crossentropy',\n",
        "              metrics=['accuracy'])\n",
        "H_new = model_relu.fit(x_train, y_train,\n",
        "                    epochs=10)\n",
        "print('time: ',time.time() - s)"
      ],
      "execution_count": null,
      "outputs": []
    },
    {
      "cell_type": "code",
      "metadata": {
        "colab": {
          "base_uri": "https://localhost:8080/"
        },
        "id": "DrwUrl0ackOm",
        "outputId": "28bea6a0-65c5-4842-b453-8576a26b51cf"
      },
      "source": [
        " \n",
        "model_poly.evaluate(x_test, y_test)"
      ],
      "execution_count": null,
      "outputs": [
        {
          "output_type": "stream",
          "text": [
            "313/313 [==============================] - 8s 25ms/step - loss: 2.3679 - accuracy: 0.7017\n"
          ],
          "name": "stdout"
        },
        {
          "output_type": "execute_result",
          "data": {
            "text/plain": [
              "[2.3679356575012207, 0.70169997215271]"
            ]
          },
          "metadata": {
            "tags": []
          },
          "execution_count": 13
        }
      ]
    },
    {
      "cell_type": "code",
      "metadata": {
        "id": "wjZR6D_bMM1X"
      },
      "source": [
        ""
      ],
      "execution_count": null,
      "outputs": []
    },
    {
      "cell_type": "markdown",
      "metadata": {
        "id": "ov9UIPrp029c"
      },
      "source": [
        "#Test"
      ]
    }
  ]
}