{
  "nbformat": 4,
  "nbformat_minor": 0,
  "metadata": {
    "colab": {
      "name": "NewA.ipynb",
      "provenance": [],
      "collapsed_sections": []
    },
    "kernelspec": {
      "name": "python3",
      "display_name": "Python 3"
    },
    "language_info": {
      "name": "python"
    },
    "accelerator": "GPU"
  },
  "cells": [
    {
      "cell_type": "code",
      "metadata": {
        "id": "c4D-d0kqFiO-"
      },
      "source": [
        "import matplotlib.pyplot as plt\n",
        "import numpy as np\n",
        "from tensorflow.keras.models import Sequential,Model,load_model\n",
        "from tensorflow.keras.layers import Input, Activation, Flatten, Dense, Dropout,Reshape\n",
        "from tensorflow.keras.layers import Conv2D, MaxPooling2D, AveragePooling2D, BatchNormalization, GlobalAveragePooling2D\n",
        "from tensorflow.keras.utils import to_categorical\n",
        "from tensorflow.keras.optimizers import SGD, Adam\n",
        "from tensorflow.keras import activations\n",
        "import time\n",
        "import math"
      ],
      "execution_count": null,
      "outputs": []
    },
    {
      "cell_type": "code",
      "metadata": {
        "id": "NqsJUbpEFnMD",
        "colab": {
          "base_uri": "https://localhost:8080/"
        },
        "outputId": "ff6210a3-9817-46cf-f08c-5c2169f88b59"
      },
      "source": [
        "from tensorflow.keras.datasets import cifar10\n",
        "(img_train, label_train), (img_test, label_test) = cifar10.load_data()"
      ],
      "execution_count": null,
      "outputs": [
        {
          "output_type": "stream",
          "text": [
            "Downloading data from https://www.cs.toronto.edu/~kriz/cifar-10-python.tar.gz\n",
            "170500096/170498071 [==============================] - 4s 0us/step\n"
          ],
          "name": "stdout"
        }
      ]
    },
    {
      "cell_type": "code",
      "metadata": {
        "id": "S-8_H1eVFrFh"
      },
      "source": [
        "x_train = img_train.astype('float32') / 255\n",
        "x_test = img_test.astype('float32') / 255"
      ],
      "execution_count": null,
      "outputs": []
    },
    {
      "cell_type": "code",
      "metadata": {
        "id": "0cGA6GfIFtXc"
      },
      "source": [
        "y_train = to_categorical(label_train)\n",
        "y_test = to_categorical(label_test)"
      ],
      "execution_count": null,
      "outputs": []
    },
    {
      "cell_type": "code",
      "metadata": {
        "colab": {
          "base_uri": "https://localhost:8080/"
        },
        "id": "1wY3izWcFvV7",
        "outputId": "1ce15351-319b-4f33-e260-d65cf718d6e2"
      },
      "source": [
        "model = load_model('drive/My Drive/Do_an-NCKH/model_Conv2D.h5')"
      ],
      "execution_count": null,
      "outputs": [
        {
          "output_type": "stream",
          "text": [
            "WARNING:tensorflow:No training configuration found in the save file, so the model was *not* compiled. Compile it manually.\n"
          ],
          "name": "stdout"
        }
      ]
    },
    {
      "cell_type": "code",
      "metadata": {
        "id": "926cWiL20K87"
      },
      "source": [
        "model_poly.save('drive/My Drive/Do_an-NCKH/model_poly.h5')"
      ],
      "execution_count": null,
      "outputs": []
    },
    {
      "cell_type": "markdown",
      "metadata": {
        "id": "zjofzQP3nRGn"
      },
      "source": [
        "#Client"
      ]
    },
    {
      "cell_type": "code",
      "metadata": {
        "colab": {
          "base_uri": "https://localhost:8080/"
        },
        "id": "jkyiVALNnQVl",
        "outputId": "cf9b0e00-39fe-4c1e-924e-0ff065a8af6a"
      },
      "source": [
        "x = x_test[0:3]\n",
        "x.shape"
      ],
      "execution_count": null,
      "outputs": [
        {
          "output_type": "execute_result",
          "data": {
            "text/plain": [
              "(3, 32, 32, 3)"
            ]
          },
          "metadata": {
            "tags": []
          },
          "execution_count": 193
        }
      ]
    },
    {
      "cell_type": "code",
      "metadata": {
        "id": "mnUf6F9dpj1k"
      },
      "source": [
        "stride, kernel, padding = 1, 3, 0"
      ],
      "execution_count": null,
      "outputs": []
    },
    {
      "cell_type": "code",
      "metadata": {
        "id": "GXFEV8MjoS3G"
      },
      "source": [
        "leghtX = x.shape[0]\n",
        "heightX = x.shape[1]\n",
        "weightX = x.shape[2]\n",
        "deptX = x.shape[3]"
      ],
      "execution_count": null,
      "outputs": []
    },
    {
      "cell_type": "code",
      "metadata": {
        "id": "XEbCdSzFpVC0"
      },
      "source": [
        "H = math.floor((heightX - kernel + 2*padding) / stride) + 1\n",
        "W = math.floor((weightX - kernel + 2*padding) / stride) + 1\n",
        "L = kernel*kernel*deptX"
      ],
      "execution_count": null,
      "outputs": []
    },
    {
      "cell_type": "code",
      "metadata": {
        "id": "GpPIMQizpYcw"
      },
      "source": [
        "X = np.zeros((leghtX, H, W, L, 2, 2))\n",
        "k = np.array([[np.random.rand(),np.random.rand()],\n",
        "              [np.random.rand(),np.random.rand()]])\n",
        "kd = np.linalg.inv(k)"
      ],
      "execution_count": null,
      "outputs": []
    },
    {
      "cell_type": "code",
      "metadata": {
        "id": "CvyHL-ygpYij"
      },
      "source": [
        "for xi in range(leghtX):\n",
        "  for hi in range(0, heightX, stride):\n",
        "    for wi in range(0, weightX, stride):\n",
        "      x_ = x[xi,hi:hi+kernel,wi:wi+kernel,:].reshape(-1)\n",
        "      for i_ in np.arange(L):\n",
        "        X_ = np.array([[x_[i_], np.random.rand()],\n",
        "                       [np.random.rand(), np.random.rand()]])\n",
        "        X[xi, hi, wi, i_] = k.dot(X_)\n",
        "        # X[xi, hi, wi, i_] = X_\n",
        "      if wi + kernel == weightX:\n",
        "        break\n",
        "    if hi + kernel == heightX:\n",
        "      break"
      ],
      "execution_count": null,
      "outputs": []
    },
    {
      "cell_type": "code",
      "metadata": {
        "colab": {
          "base_uri": "https://localhost:8080/"
        },
        "id": "1YUJ9zLJvEPr",
        "outputId": "06c7cd3e-a80e-4944-fabe-716a9fc572ee"
      },
      "source": [
        "X.shape"
      ],
      "execution_count": null,
      "outputs": [
        {
          "output_type": "execute_result",
          "data": {
            "text/plain": [
              "(3, 30, 30, 27, 2, 2)"
            ]
          },
          "metadata": {
            "tags": []
          },
          "execution_count": 199
        }
      ]
    },
    {
      "cell_type": "markdown",
      "metadata": {
        "id": "RtlYwF9xpuVO"
      },
      "source": [
        "#Server"
      ]
    },
    {
      "cell_type": "code",
      "metadata": {
        "id": "_qhIgDgWs5J6"
      },
      "source": [
        "wx = np.zeros((3,30,30,96,2,2))"
      ],
      "execution_count": null,
      "outputs": []
    },
    {
      "cell_type": "code",
      "metadata": {
        "colab": {
          "base_uri": "https://localhost:8080/"
        },
        "id": "ZEaRCG6Yy7LD",
        "outputId": "c90b92fb-3089-49cc-f93c-a4e291a4235b"
      },
      "source": [
        "model_poly.layers[0].output_shape"
      ],
      "execution_count": null,
      "outputs": [
        {
          "output_type": "execute_result",
          "data": {
            "text/plain": [
              "(None, 30, 30, 96)"
            ]
          },
          "metadata": {
            "tags": []
          },
          "execution_count": 116
        }
      ]
    },
    {
      "cell_type": "code",
      "metadata": {
        "id": "9bVUuvS5MMVm"
      },
      "source": [
        "w0, b0 = model_poly.layers[0].get_weights()\n",
        "model_ = Sequential()\n",
        "for layer in model_poly.layers[1:]:\n",
        "  model_.add(layer)\n",
        "model_.build(input_shape = model_poly.layers[0].output_shape)"
      ],
      "execution_count": null,
      "outputs": []
    },
    {
      "cell_type": "code",
      "metadata": {
        "colab": {
          "base_uri": "https://localhost:8080/"
        },
        "id": "g-BZb3Vfx7nG",
        "outputId": "ae322c55-4e3e-4ce5-c046-747051b8c819"
      },
      "source": [
        "w0.shape"
      ],
      "execution_count": null,
      "outputs": [
        {
          "output_type": "execute_result",
          "data": {
            "text/plain": [
              "(3, 3, 3, 96)"
            ]
          },
          "metadata": {
            "tags": []
          },
          "execution_count": 202
        }
      ]
    },
    {
      "cell_type": "code",
      "metadata": {
        "id": "8DVF_SkC3Xue"
      },
      "source": [
        ""
      ],
      "execution_count": null,
      "outputs": []
    },
    {
      "cell_type": "markdown",
      "metadata": {
        "id": "ocADWFir3Yo3"
      },
      "source": [
        "#Xem1"
      ]
    },
    {
      "cell_type": "code",
      "metadata": {
        "id": "lvahmxKoMMZ0"
      },
      "source": [
        "listw = []\n",
        "for d in np.arange(w0.shape[-1]):\n",
        "  w_ = w0[:,:,:,d].reshape(-1)\n",
        "  listw.append(w_)\n",
        "w = np.array(listw)"
      ],
      "execution_count": null,
      "outputs": []
    },
    {
      "cell_type": "code",
      "metadata": {
        "colab": {
          "base_uri": "https://localhost:8080/"
        },
        "id": "SIyhkKZ_3z8Y",
        "outputId": "7fda880d-50a9-4b85-c11c-8c77e9c5a874"
      },
      "source": [
        "w.shape"
      ],
      "execution_count": null,
      "outputs": [
        {
          "output_type": "execute_result",
          "data": {
            "text/plain": [
              "(96, 27)"
            ]
          },
          "metadata": {
            "tags": []
          },
          "execution_count": 204
        }
      ]
    },
    {
      "cell_type": "code",
      "metadata": {
        "id": "gz6jdl9ftdOo"
      },
      "source": [
        "for xi in np.arange(X.shape[0]):\n",
        "  for hi in np.arange(X.shape[1]):\n",
        "    for wi in np.arange(X.shape[2]):\n",
        "      for w_ in np.arange(w.shape[0]):\n",
        "        sumR = 0\n",
        "        for ri in np.arange(X.shape[3]):\n",
        "          r = w[w_,ri]*X[xi, hi, wi, ri]\n",
        "          sumR += r\n",
        "        wx[xi, hi, wi, w_] = sumR "
      ],
      "execution_count": null,
      "outputs": []
    },
    {
      "cell_type": "code",
      "metadata": {
        "id": "X-b4lEWn8n7_"
      },
      "source": [
        "x00 = model_.predict(wx[:,:,:,:,0,0] )\n",
        "x01 = model_.predict(wx[:,:,:,:,0,1] )\n",
        "x10 = model_.predict(wx[:,:,:,:,1,0] )\n",
        "x11 = model_.predict(wx[:,:,:,:,1,1] )\n",
        "xr = np.zeros((3,10,2,2))\n",
        "for i in range(3):\n",
        "  for j in range(3):\n",
        "    xr_ = np.array([[x00[i,j], x01[i,j]],\n",
        "                   [x10[i,j], x11[i,j]]])\n",
        "    xr__ = kd.dot(xr_)\n",
        "    xr[i,j] = xr__ \n",
        "lst = []\n",
        "for ii in range(3):\n",
        "  lst.append(xr[ii,:,0,0].argmax())"
      ],
      "execution_count": null,
      "outputs": []
    },
    {
      "cell_type": "code",
      "metadata": {
        "colab": {
          "base_uri": "https://localhost:8080/"
        },
        "id": "snvqhwIXGOqv",
        "outputId": "78254d95-04b1-4c30-803a-0b282e9dd902"
      },
      "source": [
        "print(lst)"
      ],
      "execution_count": null,
      "outputs": [
        {
          "output_type": "stream",
          "text": [
            "[2, 1, 3]\n"
          ],
          "name": "stdout"
        }
      ]
    },
    {
      "cell_type": "code",
      "metadata": {
        "colab": {
          "base_uri": "https://localhost:8080/"
        },
        "id": "JQbh3qcoBCBz",
        "outputId": "cecffaf0-99ce-439a-b4f1-ad5ad5184fd2"
      },
      "source": [
        "y_uncrypt = model_poly.predict(x)\n",
        "lst_uncrypt = []\n",
        "for jj in range(y_uncrypt.shape[0]):\n",
        "  lst_uncrypt.append(y_uncrypt[jj].argmax()) \n",
        "print(lst_uncrypt)"
      ],
      "execution_count": null,
      "outputs": [
        {
          "output_type": "stream",
          "text": [
            "[3, 8, 2]\n"
          ],
          "name": "stdout"
        }
      ]
    },
    {
      "cell_type": "markdown",
      "metadata": {
        "id": "lF994M8f0J6H"
      },
      "source": [
        "Thuật toán: Đối với CNN: Client phải có Stride, padding, kernel của model, tính toán output. Rồi gửi về Server ở ví dụ này X có shape (5,30,30,27,2,2). Phía Server tính toán sắp xếp lại shape của weight ở đây là (32,27), rồi sau đó tính toán như code trên để output giống như input lúc nhận. Sau đó cho vào model dự đoán từng giá trị của ma trận (2,2). Gửi về client. Client giải mã bằng K^(-1)"
      ]
    },
    {
      "cell_type": "code",
      "metadata": {
        "colab": {
          "base_uri": "https://localhost:8080/"
        },
        "id": "Z6mO2lChHi_R",
        "outputId": "1b511eb3-2c1a-49e1-e32e-230840a94a3e"
      },
      "source": [
        "p = 0.09\n",
        "0.12*(p**2) + 0.5*p + 0.409"
      ],
      "execution_count": null,
      "outputs": [
        {
          "output_type": "execute_result",
          "data": {
            "text/plain": [
              "0.454972"
            ]
          },
          "metadata": {
            "tags": []
          },
          "execution_count": 31
        }
      ]
    },
    {
      "cell_type": "code",
      "metadata": {
        "id": "zlCeLxEH5PUp"
      },
      "source": [
        "def polyfit(px):\n",
        "  return 0.1524*(px**2) + 0.5*px + 0.409"
      ],
      "execution_count": null,
      "outputs": []
    },
    {
      "cell_type": "code",
      "metadata": {
        "id": "msf6dAwkMMdj"
      },
      "source": [
        "img_size = 32"
      ],
      "execution_count": null,
      "outputs": []
    },
    {
      "cell_type": "code",
      "metadata": {
        "id": "QaR21SE84m5l"
      },
      "source": [
        "model_poly = Sequential()\n",
        "img_input = Input(shape=(img_size,img_size,3))\n",
        " \n",
        "model_poly.add(Conv2D(96, (3,3), padding='valid', input_shape = img_input.shape[1:]))\n",
        "# model_poly.add(Activation(polyfit))\n",
        "# model_poly.add(AveragePooling2D(pool_size=(2,2), padding='valid'))\n",
        "model_poly.add(BatchNormalization())\n",
        "model_poly.add(Conv2D(96, (3,3),padding='valid'))\n",
        "model_poly.add(BatchNormalization())\n",
        "model_poly.add(Conv2D(96, (3,3),padding='valid'))\n",
        "model_poly.add(Activation(polyfit))\n",
        "model_poly.add(BatchNormalization())\n",
        "\n",
        "model_poly.add(Conv2D(192, (3,3), padding='valid', input_shape = img_input.shape[1:]))\n",
        "model_poly.add(BatchNormalization())\n",
        "model_poly.add(Conv2D(192, (3,3), padding='valid', input_shape = img_input.shape[1:]))\n",
        "model_poly.add(BatchNormalization())\n",
        "model_poly.add(Activation(polyfit))\n",
        "model_poly.add(Conv2D(192, (3,3), padding='valid', input_shape = img_input.shape[1:]))\n",
        "model_poly.add(BatchNormalization())\n",
        "model_poly.add(Conv2D(192, (3,3), padding='valid', input_shape = img_input.shape[1:]))\n",
        "model_poly.add(BatchNormalization())\n",
        "model_poly.add(Conv2D(192, (3,3), padding='valid', input_shape = img_input.shape[1:]))\n",
        "model_poly.add(BatchNormalization())\n",
        "model_poly.add(Activation(polyfit))\n",
        "\n",
        "model_poly.add(Flatten())\n",
        "model_poly.add(Dense(10))\n",
        "# model_poly.add(GlobalAveragePooling2D())\n",
        "model_poly.add(Activation(activations.sigmoid))"
      ],
      "execution_count": null,
      "outputs": []
    },
    {
      "cell_type": "code",
      "metadata": {
        "id": "-YG_PqkDcZV2"
      },
      "source": [
        ""
      ],
      "execution_count": null,
      "outputs": []
    },
    {
      "cell_type": "code",
      "metadata": {
        "id": "09pMxCNu7Lvv"
      },
      "source": [
        "model_relu = Sequential()\n",
        "img_input = Input(shape=(img_size,img_size,3))\n",
        " \n",
        "model_relu.add(Conv2D(32, (3,3), padding='valid', input_shape = img_input.shape[1:]))\n",
        "model_relu.add(Activation(activations.relu))\n",
        "model_relu.add(AveragePooling2D(pool_size=(2,2), padding='valid'))\n",
        " \n",
        "model_relu.add(Conv2D(64, (3,3),padding='same'))\n",
        "model_relu.add(Activation(activations.relu))\n",
        "model_relu.add(AveragePooling2D(pool_size=(2,2), padding='same'))\n",
        " \n",
        "model_relu.add(Conv2D(128, (3,3),padding='same'))\n",
        "model_relu.add(Activation(activations.relu))\n",
        "model_relu.add(AveragePooling2D(pool_size=(2,2), padding='same'))\n",
        "model_relu.add(Flatten())\n",
        "model_relu.add(Dense(256))\n",
        "model_relu.add(Activation(activations.relu))\n",
        "model_relu.add(Dense(64))\n",
        "model_relu.add(Activation(activations.relu))\n",
        "model_relu.add(Dense(32))\n",
        "model_relu.add(Activation(activations.relu))\n",
        "model_relu.add(Dense(10))\n",
        "model_relu.add(Activation(activations.sigmoid))"
      ],
      "execution_count": null,
      "outputs": []
    },
    {
      "cell_type": "code",
      "metadata": {
        "id": "XB3jSeKKceAX"
      },
      "source": [
        ""
      ],
      "execution_count": null,
      "outputs": []
    },
    {
      "cell_type": "code",
      "metadata": {
        "id": "OBgFrYNpMMns"
      },
      "source": [
        "sgdx = SGD(lr=0.005, decay =1e-6, momentum=0.9, nesterov=True)\n",
        "ntrain = 60\n",
        "otp = Adam(learning_rate=1e-4)"
      ],
      "execution_count": null,
      "outputs": []
    },
    {
      "cell_type": "code",
      "metadata": {
        "id": "FzD7_Qr7MMrU",
        "colab": {
          "base_uri": "https://localhost:8080/"
        },
        "outputId": "94537574-dcda-4b06-c155-b1469752153f"
      },
      "source": [
        "s = time.time()\n",
        "model_poly.compile(optimizer=otp,\n",
        "              loss='categorical_crossentropy',\n",
        "              metrics=['accuracy'])\n",
        "H_new = model_poly.fit(x_train, y_train, epochs=10)\n",
        "print('time: ',time.time() - s)"
      ],
      "execution_count": null,
      "outputs": [
        {
          "output_type": "stream",
          "text": [
            "Epoch 1/10\n",
            "1563/1563 [==============================] - 50s 32ms/step - loss: 0.1494 - accuracy: 0.9477\n",
            "Epoch 2/10\n",
            "1563/1563 [==============================] - 48s 31ms/step - loss: 0.1414 - accuracy: 0.9513\n",
            "Epoch 3/10\n",
            "1563/1563 [==============================] - 49s 31ms/step - loss: 0.1371 - accuracy: 0.9532\n",
            "Epoch 4/10\n",
            "1563/1563 [==============================] - 49s 31ms/step - loss: 0.1449 - accuracy: 0.9505\n",
            "Epoch 5/10\n",
            "1563/1563 [==============================] - 49s 31ms/step - loss: 0.1303 - accuracy: 0.9559\n",
            "Epoch 6/10\n",
            "1563/1563 [==============================] - 49s 31ms/step - loss: 0.1342 - accuracy: 0.9546\n",
            "Epoch 7/10\n",
            "1563/1563 [==============================] - 49s 31ms/step - loss: 0.1219 - accuracy: 0.9590\n",
            "Epoch 8/10\n",
            "1563/1563 [==============================] - 49s 31ms/step - loss: 0.1182 - accuracy: 0.9614\n",
            "Epoch 9/10\n",
            "1563/1563 [==============================] - 49s 31ms/step - loss: 0.1275 - accuracy: 0.9594\n",
            "Epoch 10/10\n",
            "1563/1563 [==============================] - 49s 31ms/step - loss: 0.0985 - accuracy: 0.9681\n",
            "time:  489.8357343673706\n"
          ],
          "name": "stdout"
        }
      ]
    },
    {
      "cell_type": "code",
      "metadata": {
        "id": "JvzPnHCJJN0I"
      },
      "source": [
        ""
      ],
      "execution_count": null,
      "outputs": []
    },
    {
      "cell_type": "code",
      "metadata": {
        "id": "1i5LFfp7MMyI"
      },
      "source": [
        "s = time.time()\n",
        "model_relu.compile(optimizer=otp,\n",
        "              loss='categorical_crossentropy',\n",
        "              metrics=['accuracy'])\n",
        "H_new = model_relu.fit(x_train, y_train,\n",
        "                    epochs=50)\n",
        "print('time: ',time.time() - s)"
      ],
      "execution_count": null,
      "outputs": []
    },
    {
      "cell_type": "code",
      "metadata": {
        "colab": {
          "base_uri": "https://localhost:8080/"
        },
        "id": "DrwUrl0ackOm",
        "outputId": "0880ca91-f21e-49ad-b65c-07eaa82e880c"
      },
      "source": [
        " \n",
        "model_relu.evaluate(x_test, y_test)"
      ],
      "execution_count": null,
      "outputs": [
        {
          "output_type": "stream",
          "text": [
            "313/313 [==============================] - 1s 3ms/step - loss: 2.2745 - accuracy: 0.7215\n"
          ],
          "name": "stdout"
        },
        {
          "output_type": "execute_result",
          "data": {
            "text/plain": [
              "[2.2745187282562256, 0.7214999794960022]"
            ]
          },
          "metadata": {
            "tags": []
          },
          "execution_count": 40
        }
      ]
    },
    {
      "cell_type": "code",
      "metadata": {
        "id": "wjZR6D_bMM1X"
      },
      "source": [
        ""
      ],
      "execution_count": null,
      "outputs": []
    },
    {
      "cell_type": "markdown",
      "metadata": {
        "id": "ov9UIPrp029c"
      },
      "source": [
        "#Test"
      ]
    }
  ]
}